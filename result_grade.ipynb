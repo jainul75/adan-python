{
  "nbformat": 4,
  "nbformat_minor": 0,
  "metadata": {
    "colab": {
      "provenance": []
    },
    "kernelspec": {
      "name": "python3",
      "display_name": "Python 3"
    },
    "language_info": {
      "name": "python"
    }
  },
  "cells": [
    {
      "cell_type": "code",
      "execution_count": null,
      "metadata": {
        "colab": {
          "base_uri": "https://localhost:8080/"
        },
        "id": "RTpaJJoJj2pf",
        "outputId": "83318e8a-9b58-4852-f403-03248dfb1bd0"
      },
      "outputs": [
        {
          "output_type": "stream",
          "name": "stdout",
          "text": [
            "Enter your mark: 33\n",
            "You Failed!\n",
            "Enter your mark: 77\n",
            "You got A\n",
            "Enter your mark: 100\n",
            "You got A+\n",
            "Enter your mark: 65\n",
            "You got A-\n",
            "Enter your mark: 45\n",
            "You got C\n",
            "Enter your mark: 55\n",
            "You got B\n",
            "Enter your mark: Done\n",
            "Your grades: ['F', 'A', 'A+', 'A-', 'C', 'B']\n"
          ]
        }
      ],
      "source": [
        "def compute_result():\n",
        "    grades = []\n",
        "    while True:\n",
        "        m = input(\"Enter your mark: \")\n",
        "        if m == \"Done\":     # to exit from the while loop enter Done\n",
        "            break\n",
        "        mark = int(m)\n",
        "        if mark <= 100 and mark >= 80:\n",
        "            grade = 'A+'\n",
        "            print(f'You got {grade}')\n",
        "        elif mark >= 70:\n",
        "            grade = 'A'\n",
        "            print(f'You got {grade}')\n",
        "        elif mark >= 60:\n",
        "            grade = 'A-'\n",
        "            print(f'You got {grade}')\n",
        "        elif mark >= 50:\n",
        "            grade = 'B'\n",
        "            print(f'You got {grade}')\n",
        "        elif mark >= 40:\n",
        "            grade = 'C'\n",
        "            print(f'You got {grade}')\n",
        "        else:\n",
        "            grade = 'F'\n",
        "            print(f'You Failed!')\n",
        "        grades.append(grade)\n",
        "    print(f'Your grades: {grades}')\n",
        "\n",
        "compute_result()\n"
      ]
    }
  ]
}